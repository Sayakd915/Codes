{
 "cells": [
  {
   "cell_type": "code",
   "execution_count": 1,
   "metadata": {},
   "outputs": [
    {
     "name": "stdout",
     "output_type": "stream",
     "text": [
      "Hello World\n",
      "Hello  Sayak\n"
     ]
    }
   ],
   "source": [
    "## Printing Hello World (Input and Output)\n",
    "\n",
    "print(\"Hello World\") \n",
    "\n",
    "## The print function does exactly what its name suggests\n",
    "\n",
    "a=input(\"What is your name?\")\n",
    "\n",
    "## The same for the input function\n",
    "\n",
    "print(\"Hello \", a)"
   ]
  },
  {
   "cell_type": "code",
   "execution_count": 3,
   "metadata": {},
   "outputs": [
    {
     "name": "stdout",
     "output_type": "stream",
     "text": [
      "The first number entered is :   25\n",
      "The second number entered is :   5\n",
      "The sum is :  30\n",
      "The difference is :  20\n",
      "The product is :  125\n",
      "The quotient is :  5.0\n",
      "The remainder is :  0\n"
     ]
    }
   ],
   "source": [
    "## Basic Calculator (Arithmatic operators)\n",
    "num1=int(input(\"Enter the first  number\"))  ## int takes an integer value\n",
    "num2=int(input(\"Enter the second number\"))\n",
    "print(\"The first number entered is :  \",num1)\n",
    "print(\"The second number entered is :  \",num2)\n",
    "sum=num1+num2\n",
    "diff=num1-num2\n",
    "prod=num1*num2\n",
    "quot=num1/num2\n",
    "remainder=num1%num2\n",
    "\n",
    "## +,-,*,/ and %(modulo) are used in mathematical operations.  Note the previous 5 loc\n",
    "\n",
    "print(\"The sum is : \",sum)\n",
    "print(\"The difference is : \",diff)\n",
    "print(\"The product is : \",prod)\n",
    "print(\"The quotient is : \",quot)\n",
    "print(\"The remainder is : \",remainder)\n"
   ]
  },
  {
   "cell_type": "code",
   "execution_count": 2,
   "metadata": {},
   "outputs": [
    {
     "name": "stdout",
     "output_type": "stream",
     "text": [
      "The number is positive\n"
     ]
    }
   ],
   "source": [
    "## if elif else statement\n",
    "n=int(input(\"Enter any number\")) \n",
    "if n>0:\n",
    "   print(\"The number is positive\")\n",
    "elif n<0:\n",
    "   print(\"The number is negative\")\n",
    "else:\n",
    "   print(\"The number entered is 0\")\n",
    "\n",
    "   ## if elif else are known as conditional operators. They run a code when the input follows a condition specified by the user.\n",
    "   ## The flow of command is as follows : if -----> elif -------> else\n",
    "   ## One can omit elif if there's only one  condition that needs to be satisfied. In that sense, the flow of command will be if -----> else\n",
    "\n",
    "    "
   ]
  },
  {
   "cell_type": "code",
   "execution_count": 1,
   "metadata": {},
   "outputs": [
    {
     "name": "stdout",
     "output_type": "stream",
     "text": [
      "apple\n",
      "banana\n",
      "cherry\n"
     ]
    }
   ],
   "source": [
    "## For loop\n",
    "\n",
    "## The For Loop is used to iterate a sequence of items, like a list or string. We have taken the example of a list here\n",
    "\n",
    "fruits = [\"apple\", \"banana\", \"cherry\"]\n",
    "\n",
    "for fruit in fruits:\n",
    "    print(fruit)\n"
   ]
  },
  {
   "cell_type": "code",
   "execution_count": 2,
   "metadata": {},
   "outputs": [
    {
     "name": "stdout",
     "output_type": "stream",
     "text": [
      "0\n",
      "1\n",
      "2\n",
      "3\n",
      "4\n"
     ]
    }
   ],
   "source": [
    "## while loop\n",
    "\n",
    "## The while loop executes a code as long as the specified condition is true\n",
    "\n",
    "n = 0\n",
    "\n",
    "while n < 5:\n",
    "    print(n)\n",
    "    n += 1\n"
   ]
  }
 ],
 "metadata": {
  "kernelspec": {
   "display_name": "Python 3",
   "language": "python",
   "name": "python3"
  },
  "language_info": {
   "codemirror_mode": {
    "name": "ipython",
    "version": 3
   },
   "file_extension": ".py",
   "mimetype": "text/x-python",
   "name": "python",
   "nbconvert_exporter": "python",
   "pygments_lexer": "ipython3",
   "version": "3.11.5"
  },
  "orig_nbformat": 4
 },
 "nbformat": 4,
 "nbformat_minor": 2
}
