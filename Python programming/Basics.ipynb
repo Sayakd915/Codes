{
 "cells": [
  {
   "cell_type": "code",
   "execution_count": 1,
   "metadata": {},
   "outputs": [
    {
     "name": "stdout",
     "output_type": "stream",
     "text": [
      "Hello World\n",
      "Hello  Sayak\n"
     ]
    }
   ],
   "source": [
    "## Printing Hello World (Input and Output)\n",
    "print(\"Hello World\")\n",
    "a=input(\"What is your name?\")\n",
    "print(\"Hello \", a)"
   ]
  },
  {
   "cell_type": "code",
   "execution_count": 3,
   "metadata": {},
   "outputs": [
    {
     "name": "stdout",
     "output_type": "stream",
     "text": [
      "The first number entered is :   25\n",
      "The second number entered is :   5\n",
      "The sum is :  30\n",
      "The difference is :  20\n",
      "The product is :  125\n",
      "The quotient is :  5.0\n",
      "The remainder is :  0\n"
     ]
    }
   ],
   "source": [
    "## Basic Calculator (Arithmatic operators)\n",
    "num1=int(input(\"Enter the first  number\"))\n",
    "num2=int(input(\"Enter the second number\"))\n",
    "print(\"The first number entered is :  \",num1)\n",
    "print(\"The second number entered is :  \",num2)\n",
    "sum=num1+num2\n",
    "diff=num1-num2\n",
    "prod=num1*num2\n",
    "quot=num1/num2\n",
    "remainder=num1%num2\n",
    "print(\"The sum is : \",sum)\n",
    "print(\"The difference is : \",diff)\n",
    "print(\"The product is : \",prod)\n",
    "print(\"The quotient is : \",quot)\n",
    "print(\"The remainder is : \",remainder)\n"
   ]
  },
  {
   "cell_type": "code",
   "execution_count": 15,
   "metadata": {},
   "outputs": [
    {
     "name": "stdout",
     "output_type": "stream",
     "text": [
      "The number is negative\n"
     ]
    }
   ],
   "source": [
    "## if elif else statement\n",
    "n=int(input(\"Enter any number\"))\n",
    "if n>0:\n",
    "   print(\"The number is positive\")\n",
    "elif n<0:\n",
    "   print(\"The number is negative\")\n",
    "else:\n",
    "   print(\"The number entered is 0\")\n",
    "\n",
    "    "
   ]
  }
 ],
 "metadata": {
  "kernelspec": {
   "display_name": "Python 3",
   "language": "python",
   "name": "python3"
  },
  "language_info": {
   "codemirror_mode": {
    "name": "ipython",
    "version": 3
   },
   "file_extension": ".py",
   "mimetype": "text/x-python",
   "name": "python",
   "nbconvert_exporter": "python",
   "pygments_lexer": "ipython3",
   "version": "3.11.5"
  },
  "orig_nbformat": 4
 },
 "nbformat": 4,
 "nbformat_minor": 2
}
